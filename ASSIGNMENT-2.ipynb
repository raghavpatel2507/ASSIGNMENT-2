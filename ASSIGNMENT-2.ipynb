{
 "cells": [
  {
   "cell_type": "code",
   "execution_count": 1,
   "id": "f1d701e7-376b-4370-bb18-57291be6c3d8",
   "metadata": {},
   "outputs": [],
   "source": [
    "#Q-1 \n",
    "# create a function use to keyword name is a def"
   ]
  },
  {
   "cell_type": "code",
   "execution_count": 2,
   "id": "49328cd5-7cc8-4c1f-86f5-81a30514202d",
   "metadata": {},
   "outputs": [],
   "source": [
    "def test(n1):\n",
    "    print([ i for i in n1 if i%2!=0])"
   ]
  },
  {
   "cell_type": "code",
   "execution_count": 3,
   "id": "5f46b624-e4eb-46c4-95df-04f356bec5b6",
   "metadata": {},
   "outputs": [
    {
     "name": "stdout",
     "output_type": "stream",
     "text": [
      "[1, 3, 5, 7, 9, 11, 13, 15, 17, 19, 21, 23]\n"
     ]
    }
   ],
   "source": [
    "test(list(range(1,25)))"
   ]
  },
  {
   "cell_type": "code",
   "execution_count": 4,
   "id": "2cf2e2ff-6f2b-4d49-a0cc-578eb2be3520",
   "metadata": {},
   "outputs": [],
   "source": [
    "#Q-2\n",
    "# *args use to a maltiple arguments in a function\n",
    "#**kwargs use access to a dictionary as arguments \n",
    "def test1(*args):\n",
    "    return args+args"
   ]
  },
  {
   "cell_type": "code",
   "execution_count": 5,
   "id": "ba175fa4-0a61-453c-95b1-199cb87b314a",
   "metadata": {},
   "outputs": [
    {
     "data": {
      "text/plain": [
       "(1, 4, 5, 7, 8, 9, 1, 4, 5, 7, 8, 9)"
      ]
     },
     "execution_count": 5,
     "metadata": {},
     "output_type": "execute_result"
    }
   ],
   "source": [
    "test1(1,4,5,7,8,9) "
   ]
  },
  {
   "cell_type": "code",
   "execution_count": 6,
   "id": "4460e469-d39a-449b-809f-ee5821d46622",
   "metadata": {},
   "outputs": [],
   "source": [
    "def test2(**kwargs):\n",
    "    return kwargs"
   ]
  },
  {
   "cell_type": "code",
   "execution_count": 7,
   "id": "c1e450ec-3a67-4b8e-9dfd-2cf46e27aac7",
   "metadata": {},
   "outputs": [
    {
     "data": {
      "text/plain": [
       "{'key': [1, 'raghav'], 'key2': [2, 'sagar']}"
      ]
     },
     "execution_count": 7,
     "metadata": {},
     "output_type": "execute_result"
    }
   ],
   "source": [
    "test2(key=[1,'raghav'],key2=[2,'sagar'])"
   ]
  },
  {
   "cell_type": "code",
   "execution_count": 8,
   "id": "eaf0e8e5-b392-4d3e-bff0-b1b8f42c80df",
   "metadata": {},
   "outputs": [],
   "source": [
    "# Q-3\n",
    "#An iterator is an object that contains a countable number of values. An iterator is an object that can be iterated upon, meaning that you can traverse through all the values. Technically, in Python, an iterator is an object which implements the iterator protocol, which consist of the methods __iter__() and __next__() .\n",
    "# iter() method name"
   ]
  },
  {
   "cell_type": "code",
   "execution_count": 9,
   "id": "4b5e936e-16bc-4f1a-bfde-f7c03707b15a",
   "metadata": {},
   "outputs": [
    {
     "name": "stdout",
     "output_type": "stream",
     "text": [
      "2\n",
      "4\n",
      "6\n",
      "8\n",
      "10\n"
     ]
    }
   ],
   "source": [
    "l1=[2, 4, 6, 8, 10, 12, 14, 16, 18, 20]\n",
    "a=iter(l1)\n",
    "print(next(a))\n",
    "print(next(a))\n",
    "print(next(a))\n",
    "print(next(a))\n",
    "print(next(a))"
   ]
  },
  {
   "cell_type": "code",
   "execution_count": 10,
   "id": "99066a37-592c-41b8-8e47-12fedd949eb8",
   "metadata": {},
   "outputs": [],
   "source": [
    "# Q-4\n",
    "#->generator function that returns an iterator that produces a sequence of values when iterated over\n",
    "#->yield keyword is a similar to a return statements use for returning value "
   ]
  },
  {
   "cell_type": "code",
   "execution_count": 11,
   "id": "26d5da7e-343e-47ac-ac75-aa52fa401af8",
   "metadata": {},
   "outputs": [],
   "source": [
    "# generator function\n",
    "def count_test(n):\n",
    "    count=1\n",
    "    while count<n:\n",
    "        yield count\n",
    "        count=count+1"
   ]
  },
  {
   "cell_type": "code",
   "execution_count": 12,
   "id": "e435a54e-1876-415e-b1d2-67b58be54e60",
   "metadata": {},
   "outputs": [
    {
     "name": "stdout",
     "output_type": "stream",
     "text": [
      "1\n",
      "2\n",
      "3\n",
      "4\n"
     ]
    }
   ],
   "source": [
    "c=count_test(5)\n",
    "for i in c:\n",
    "    print(i)"
   ]
  },
  {
   "cell_type": "code",
   "execution_count": 13,
   "id": "27c3f482-9393-4a78-912b-bb39bea10416",
   "metadata": {},
   "outputs": [
    {
     "name": "stdout",
     "output_type": "stream",
     "text": [
      "0\n",
      "1\n",
      "1\n",
      "2\n",
      "3\n",
      "5\n",
      "8\n",
      "13\n",
      "21\n",
      "34\n"
     ]
    }
   ],
   "source": [
    "#q-6\n",
    "#fibonnaci numbers\n",
    "number=10\n",
    "a,b=0,1\n",
    "counter=0\n",
    "while counter<number:\n",
    "    print(a)\n",
    "    c=a+b\n",
    "    a=b\n",
    "    b=c\n",
    "    counter=counter+1"
   ]
  },
  {
   "cell_type": "code",
   "execution_count": null,
   "id": "82773962-82c9-4f91-91c2-0571b1b4a870",
   "metadata": {},
   "outputs": [],
   "source": []
  }
 ],
 "metadata": {
  "kernelspec": {
   "display_name": "Python 3 (ipykernel)",
   "language": "python",
   "name": "python3"
  },
  "language_info": {
   "codemirror_mode": {
    "name": "ipython",
    "version": 3
   },
   "file_extension": ".py",
   "mimetype": "text/x-python",
   "name": "python",
   "nbconvert_exporter": "python",
   "pygments_lexer": "ipython3",
   "version": "3.10.8"
  }
 },
 "nbformat": 4,
 "nbformat_minor": 5
}
